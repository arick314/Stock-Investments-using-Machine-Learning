{
 "cells": [
  {
   "cell_type": "markdown",
   "id": "acf113e3-1d78-4eb7-802d-5ff4cd7bb96c",
   "metadata": {
    "tags": []
   },
   "source": [
    "<h1> Predicting Successful Goals in Stock Purchasing</h1>\n",
    "\n",
    "**Details**: This project was done for the DATA 240 - Data Mining course at San Jose State University. The project goal was to utilize data mining, feature generation, and feature reduction techniques. All code below is my own individual work.\n",
    "\n",
    "**Goal**: Instead of framing the problem as a traditional numerical prediction problem, this approach will also reframe the problem as a binary \"Buy\" and \"Don't Buy\" problem that can be modified by the user. The metrics of a successful \"Buy\" outcome is if the price will raise by x% in n days. Where x is the percent increase of the price and n is the time limit where that increase of price can be reached. The purpose of this method is to appeal to the commercial investor where constant monitoring may not be an option or there is too much uncertainty with attempting to maximize profits.\n",
    "\n",
    "**Purpose**: The purpose of this notebook is to reimagine the use of machine learning to predict stock prices. In this different approach, the model will be trained on a single stock and data mining will be utilized to attempt to maximize financial gains and minimize risk. This could be useful for investors who want a chance to successfully complete a sell limit order which will sell stock once a certain price is reached. All functions are designed in a linear fashion to accept a dataset input followed by desired time span, profits, and risk. Once inputs are set, prediction accuracy is provided with the option to input prices for a current prediction.\n",
    "\n",
    "**Dataset**: https://finance.yahoo.com/quote/TSLA?p=TSLA&.tsrc=fin-srch\n",
    "\n",
    "**Dataset Description**: The dataset being trained on is the TSLA stock prices from 6/29/21 to 10/22/21 with the prediction dataset spanning from **DATE HERE** to 11/19/21. The dataset was manually downloaded from Yahoo as a test, but an API that grabs data in a similar fashion could be more effective in utilizing this notebook for active investing. Otherwise, the Yahoo dataset provides a selection of information including open, high, low, close prices, as well as adjusted close price and trade volume."
   ]
  },
  {
   "cell_type": "markdown",
   "id": "89562a36-1d17-4094-a9aa-faf2fac931e1",
   "metadata": {},
   "source": [
    "### 1. Import Libraries and Settings"
   ]
  },
  {
   "cell_type": "code",
   "execution_count": 1,
   "id": "f3fa2ab0-8cb9-4cd5-82a8-9916c5b5bcfb",
   "metadata": {},
   "outputs": [],
   "source": [
    "# Pandas and numpy for data manipulation and organization\n",
    "import pandas as pd\n",
    "import numpy as np\n",
    "\n",
    "# Remove column display limit and disallow chained assignments\n",
    "pd.set_option('display.max_columns', None)\n",
    "pd.options.mode.chained_assignment = None \n",
    "\n",
    "# Import for plotting visualizations\n",
    "import matplotlib.pyplot as plt\n",
    "import scikitplot as skplt\n",
    "import seaborn as sns\n",
    "\n",
    "# sklearn libraries for machine learning and feature importance\n",
    "from sklearn.model_selection import train_test_split\n",
    "\n",
    "from sklearn.linear_model import LogisticRegression\n",
    "import statsmodels.api as sm\n",
    "\n",
    "from sklearn.tree import DecisionTreeClassifier\n",
    "from sklearn.ensemble import RandomForestClassifier\n",
    "from sklearn.ensemble import AdaBoostClassifier\n",
    "\n",
    "from sklearn.naive_bayes import BernoulliNB\n",
    "from sklearn.naive_bayes import GaussianNB\n",
    "from sklearn.naive_bayes import MultinomialNB\n",
    "\n",
    "# sklearn libraries for accuracy metrics\n",
    "from sklearn.metrics import confusion_matrix, classification_report\n",
    "from sklearn.metrics import accuracy_score, precision_score, recall_score, f1_score, make_scorer\n",
    "from sklearn.metrics import roc_curve"
   ]
  },
  {
   "cell_type": "markdown",
   "id": "c94d98ea-6ce0-4727-82a4-9324a26b2aa3",
   "metadata": {},
   "source": [
    "### 2. Import Data"
   ]
  },
  {
   "cell_type": "markdown",
   "id": "8cf55120-8b36-45c3-99b7-c83b890da450",
   "metadata": {},
   "source": [
    "**Input values here**"
   ]
  },
  {
   "cell_type": "code",
   "execution_count": 2,
   "id": "02d6900a-2d06-4925-94a5-dc2503834581",
   "metadata": {},
   "outputs": [],
   "source": [
    "# File name of the data you wish to test\n",
    "filename = \"TSLA.csv\"\n",
    "\n",
    "# File name for the data you wish to predict on\n",
    "# The file will predict the latest csv values with at least 40 previous entries to compute moving averages\n",
    "test_file = \"TSLA Predict.csv\"\n",
    "\n",
    "# The minimum precision you wish to achieve where a higher value decreases the amount of potential losses\n",
    "precision_min = .9\n",
    "\n",
    "# The number of days you wish to complete the goal (or how long until an x% increase in price)\n",
    "n = 21\n",
    "\n",
    "# The percent value of increase you wish to achieve\n",
    "p_inc = .1"
   ]
  },
  {
   "cell_type": "code",
   "execution_count": 3,
   "id": "fd9dcf85-219a-4c18-acd1-5072d1d79e5b",
   "metadata": {},
   "outputs": [],
   "source": [
    "def data_prep(filename):\n",
    "    \"\"\"\n",
    "    filename: The input file name to find the average price\n",
    "    \n",
    "    output: A dataframe that includes the average price column\n",
    "    \"\"\"\n",
    "    \n",
    "    df = pd.read_csv(filename)\n",
    "    df['Day'] = df.index + 1\n",
    "    df[\"Average\"] = (df[\"High\"] + df[\"Low\"]) / 2\n",
    "    return df"
   ]
  },
  {
   "cell_type": "code",
   "execution_count": 4,
   "id": "43831242-830d-448b-a8e5-a6f2f135a83d",
   "metadata": {},
   "outputs": [],
   "source": [
    "df = data_prep(filename)\n",
    "\n",
    "df_average = df[[\"Day\", \"Average\"]]\n",
    "df_average = df_average.rename(columns={\"Average\": \"Price\"})"
   ]
  },
  {
   "cell_type": "markdown",
   "id": "fe5aeb8e-5093-47ee-8ef6-b96fe13743ac",
   "metadata": {},
   "source": [
    "### 3. Feature Generation\n",
    "\n",
    "The goal of feature generation is to capture the time-series nature of the data by creating moving averages and changes over time within the data. After these features are generated, feature reduction techiques will occur to determine the most valuable features."
   ]
  },
  {
   "cell_type": "code",
   "execution_count": 5,
   "id": "fd0d5461-cd4a-4906-adbb-73e1c2c76dae",
   "metadata": {},
   "outputs": [],
   "source": [
    "def feature_generation(df, x, p_inc, normalization = True, prediction = False):\n",
    "    \"\"\"\n",
    "    df: The input dataframe with the column Price\n",
    "    x : The number of days in the future we want to check a certain percent increase\n",
    "    p_inc: The percent increase we want to check for within x days\n",
    "    \n",
    "    Output: A dataframe with additional features.\n",
    "    \n",
    "    Note: This will decrease the number of rows in the dataframe by 40 + x since we use moving averages.\n",
    "    \"\"\"\n",
    "    \n",
    "    # Create five columns that capture moving average prices for different windows\n",
    "    df['3MA'] = df[\"Price\"].rolling(window=3).mean()\n",
    "    df['7MA'] = df[\"Price\"].rolling(window=7).mean()\n",
    "    df['15MA'] = df[\"Price\"].rolling(window=15).mean()\n",
    "    df['25MA'] = df[\"Price\"].rolling(window=25).mean()\n",
    "    df['40MA'] = df[\"Price\"].rolling(window=40).mean()\n",
    "\n",
    "    # Create four columns that capture mininum price for different windows\n",
    "    df['3MIN'] = df[\"Price\"].rolling(window=3).min()\n",
    "    df['7MIN'] = df[\"Price\"].rolling(window=7).min()\n",
    "    df['15MIN'] = df[\"Price\"].rolling(window=15).min()\n",
    "    df['25MIN'] = df[\"Price\"].rolling(window=25).min()\n",
    "\n",
    "    # Create four columns that capture max price for different windows\n",
    "    df['3MAX'] = df[\"Price\"].rolling(window=3).max()\n",
    "    df['7MAX'] = df[\"Price\"].rolling(window=7).max()\n",
    "    df['15MAX'] = df[\"Price\"].rolling(window=15).max()\n",
    "    df['25MAX'] = df[\"Price\"].rolling(window=25).max()\n",
    "    \n",
    "    # Normalizes the price between the highs and lows of four different ranges\n",
    "    df['3Range'] = (df[\"Price\"] - df[\"Price\"].rolling(window=3).min()) / (df[\"Price\"].rolling(window=3).max() - df[\"Price\"].rolling(window=3).min())\n",
    "    df['7Range'] = (df[\"Price\"] - df[\"Price\"].rolling(window=7).min()) / (df[\"Price\"].rolling(window=7).max() - df[\"Price\"].rolling(window=7).min())\n",
    "    df['15Range'] = (df[\"Price\"] - df[\"Price\"].rolling(window=15).min()) / (df[\"Price\"].rolling(window=15).max() - df[\"Price\"].rolling(window=15).min())\n",
    "    df['25Range'] = (df[\"Price\"] - df[\"Price\"].rolling(window=25).min()) / (df[\"Price\"].rolling(window=25).max() - df[\"Price\"].rolling(window=25).min())\n",
    "    \n",
    "    # Four columns that measure the exponential moving averages\n",
    "    df['3EMA'] = df['Price'].ewm(span=3, adjust=False).mean()\n",
    "    df['7EMA'] = df['Price'].ewm(span=7, adjust=False).mean()\n",
    "    df['15EMA'] = df['Price'].ewm(span=15, adjust=False).mean()\n",
    "    df['25EMA'] = df['Price'].ewm(span=25, adjust=False).mean()\n",
    "    \n",
    "    # The 40 minus 7 day moving average values\n",
    "    df['40-7MA'] = df[\"Price\"].rolling(window=39).mean() - df[\"Price\"].rolling(window=7).mean()\n",
    "    df['40-7EMA'] = df['Price'].ewm(span=39, adjust=False).mean() - df['Price'].ewm(span=7, adjust=False).mean()\n",
    "    \n",
    "    # For calculating 10 day momentum\n",
    "    momentum_list = [0] * 10\n",
    "    for i in range(10, df.shape[0]):\n",
    "        momentum_list.append(df['Price'].iloc[i] - df['Price'].iloc[i - 10])\n",
    "    df['Momentum'] = momentum_list\n",
    "    \n",
    "    # For calculating the RSI column where U is the price difference when changes are positive, and D is that absolute value if changes are negative\n",
    "    rsi_U_list = [0, 0]\n",
    "    rsi_D_list = [0, 0]\n",
    "    \n",
    "        # Calculates the difference for U and D values while ensuring zero values for wrong direction changes\n",
    "    for i in range(2, df.shape[0]):\n",
    "        if df['Price'].iloc[i - 1] < df['Price'].iloc[i]:\n",
    "            rsi_U_list.append(df['Price'].iloc[i] - df['Price'].iloc[i - 1])\n",
    "            rsi_D_list.append(0)\n",
    "        else:\n",
    "            rsi_U_list.append(0)\n",
    "            rsi_D_list.append(df['Price'].iloc[i-1] - df['Price'].iloc[i])\n",
    "            \n",
    "        # Creating the RSI value using the rsi U and rsi D lists from above\n",
    "    df[\"U\"] = rsi_U_list\n",
    "    df[\"D\"] = rsi_D_list\n",
    "    df['UEMA'] = df['U'].ewm(span=14, adjust=False).mean()\n",
    "    df['DEMA'] = df['D'].ewm(span=14, adjust=False).mean()\n",
    "    df['RS'] = df['UEMA']/df['DEMA']\n",
    "    df['RSI'] = 100 - (100 / (1 + df['RS']))\n",
    "    \n",
    "        # Drop the columns used to calculate RSI\n",
    "    df.drop(columns=['U', 'D', 'UEMA', 'DEMA', 'RS'], axis=1, inplace = True)\n",
    "    \n",
    "    # Calculating MACD\n",
    "    df['MACD_temp1'] = df['Price'].ewm(span=26, adjust=False).mean() - df['Price'].ewm(span=12, adjust=False).mean()\n",
    "    df['MACD_temp2'] = df['MACD_temp1'].ewm(span=9, adjust=False).mean()\n",
    "    df['MACD'] = df['MACD_temp2'] - df['MACD_temp1']\n",
    "    df.drop(columns=['MACD_temp1', 'MACD_temp2'], axis=1, inplace = True)\n",
    "    \n",
    "    # For calculating a binary moving average crossovers\n",
    "    ma_crossover_list = [0] * 40\n",
    "    for i in range(40, df.shape[0]):\n",
    "        if df['40-7MA'].iloc[i - 1] > 0 and df['40-7MA'].iloc[i] < 0:\n",
    "            ma_crossover_list.append(1)\n",
    "        else:\n",
    "            ma_crossover_list.append(0)\n",
    "        \n",
    "    df[\"MA_Crossover\"] = ma_crossover_list\n",
    "    \n",
    "    # For calculating a binary exponential moving average crossovers\n",
    "    e_crossover_list = [0] * 40\n",
    "    for i in range(40, df.shape[0]):\n",
    "        if df['40-7EMA'].iloc[i - 1] > 0 and df['40-7EMA'].iloc[i] < 0:\n",
    "            e_crossover_list.append(1)\n",
    "        else:\n",
    "            e_crossover_list.append(0)\n",
    "        \n",
    "    df[\"EMA_Crossover\"] = e_crossover_list\n",
    "    \n",
    "    # For the binary classification if a price in x days witnesses a p_inc increase\n",
    "    if prediction == False:\n",
    "        classification_list = []\n",
    "        for j in range(0, df.shape[0] - x):\n",
    "            highest_list = []\n",
    "            for i in range(j+1, j+x+1):\n",
    "                highest_list.append(df.iloc[i,1])\n",
    "\n",
    "            if df.iloc[j,1] * (1 + p_inc) < max(highest_list):\n",
    "                classification_list.append(1)\n",
    "            else:\n",
    "                classification_list.append(0)\n",
    "\n",
    "        df = df[:-x]\n",
    "        df[\"Classification\"] = classification_list\n",
    "    \n",
    "    df = df.iloc[40: , :]\n",
    "    \n",
    "    if normalization == True:\n",
    "        normalized_df = (df-df.min())/(df.max()-df.min())\n",
    "        return normalized_df\n",
    "    else:\n",
    "        return df"
   ]
  },
  {
   "cell_type": "markdown",
   "id": "bbc4b477-db91-489c-9dd3-f0c3d5113e71",
   "metadata": {},
   "source": [
    "### 4. Feature Reduction"
   ]
  },
  {
   "cell_type": "code",
   "execution_count": 6,
   "id": "b60df215-87ce-4306-acec-c4d6d5f57427",
   "metadata": {},
   "outputs": [],
   "source": [
    "def feature_extraction(df):\n",
    "    \"\"\"\n",
    "    df: The input dataframe that has passed through the feature_generation function\n",
    "    \n",
    "    Output: A list of column names that passed feature extraction metrics\n",
    "    \n",
    "    Notes: Since each feature generation and reduction is created on different stocks, different methods of\n",
    "    feature reduction and the features themselves may be different than the stock before. So, this function\n",
    "    will utilize two feature reduction methods to find different important features for each stock.\n",
    "    \"\"\"\n",
    "    \n",
    "    # Set y as target variables and X as the features\n",
    "    y = df_average[\"Classification\"]\n",
    "    y = y.to_numpy()\n",
    "    X = df_average.drop(columns=['Day', \"Price\", \"Classification\"], axis=1)\n",
    "    \n",
    "    # Use train_test_split to split between training and testing\n",
    "    X_train, X_test, y_train, y_test = train_test_split(X, y, test_size = .2, random_state = 21, stratify = y)\n",
    "    \n",
    "    # Create a logistic regression and fit it to the X and y training sets with y_pred\n",
    "    logistic = LogisticRegression(solver = \"liblinear\", random_state=21)\n",
    "    logistic.fit(X_train, y_train)\n",
    "    y_pred = logistic.predict(X_test)\n",
    "    \n",
    "    # Using the logistic regression create a table of importance results\n",
    "    X[\"Intercept\"] = 1\n",
    "    logistic_ml = sm.Logit(y, X)\n",
    "    logistic_coef = logistic_ml.fit()\n",
    "    summary_results = logistic_coef.summary2()\n",
    "    log_results = summary_results.tables[1]\n",
    "    \n",
    "    # Create a random forest and fit it to the X and y\n",
    "    forest = RandomForestClassifier(criterion='entropy', max_depth = 5, n_estimators = 500, random_state = 21)\n",
    "    forest.fit(X_train, y_train)\n",
    "    \n",
    "    importances = forest.feature_importances_\n",
    "\n",
    "    forest_df = pd.DataFrame({\"feature\": X_train.columns, \"importance\": importances})\n",
    "    forest_df.set_index('feature', inplace=True)\n",
    "    \n",
    "    # Combine the results onto the table\n",
    "    df_results = pd.concat([log_results, forest_df], axis=1, join='inner')\n",
    "    df_results = df_results[[\"P>|z|\", \"importance\"]]\n",
    "    \n",
    "    # This scoring system utilizes both forms of feature reduction as equally important and assigns a score to each\n",
    "    df_results.loc[ (df_results[\"P>|z|\"] > .75) & (df_results[\"P>|z|\"] <= 1) , \"P>|z|\"] = -2\n",
    "    df_results.loc[ (df_results[\"P>|z|\"] > .5) & (df_results[\"P>|z|\"] <= .75) , \"P>|z|\"] = -1\n",
    "    df_results.loc[ (df_results[\"P>|z|\"] > .2) & (df_results[\"P>|z|\"] <= .5) , \"P>|z|\"] = 0\n",
    "    df_results.loc[ (df_results[\"P>|z|\"] > .05) & (df_results[\"P>|z|\"] <= .2) , \"P>|z|\"] = 1\n",
    "    df_results.loc[ (df_results[\"P>|z|\"] > 0) & (df_results[\"P>|z|\"] <= .05) , \"P>|z|\"] = 2\n",
    "    \n",
    "    df_results.loc[ (df_results[\"importance\"] > .06) & (df_results[\"importance\"] <= 1) , \"importance\"] = 2\n",
    "    df_results.loc[ (df_results[\"importance\"] > .05) & (df_results[\"importance\"] <= .06) , \"importance\"] = 1\n",
    "    df_results.loc[ (df_results[\"importance\"] > .035) & (df_results[\"importance\"] <= .05) , \"importance\"] = 0\n",
    "    df_results.loc[ (df_results[\"importance\"] > .02) & (df_results[\"importance\"] <= .035) , \"importance\"] = -1\n",
    "    df_results.loc[ (df_results[\"importance\"] > 0) & (df_results[\"importance\"] <= .02) , \"importance\"] = -2\n",
    "    \n",
    "    df_results['Score'] = df_results[\"importance\"] + df_results[\"P>|z|\"]\n",
    "    \n",
    "    # Keep all features with a score of more than or equal to 0\n",
    "    df_results = df_results[df_results['Score'] >= 0]\n",
    "    \n",
    "    # Returns a list of important columns\n",
    "    return df_results.index.tolist()"
   ]
  },
  {
   "cell_type": "code",
   "execution_count": null,
   "id": "caf39e43-cdf6-43db-84cb-8295a7177f1b",
   "metadata": {},
   "outputs": [],
   "source": []
  },
  {
   "cell_type": "code",
   "execution_count": null,
   "id": "b8be3bdc-a9b5-4d0c-bbd1-30741accb8de",
   "metadata": {},
   "outputs": [],
   "source": []
  },
  {
   "cell_type": "markdown",
   "id": "4039ee72-be78-4e41-9f96-d61e0ea4b986",
   "metadata": {},
   "source": [
    "### 5. Model Selection and Accuracy\n",
    "\n",
    "Logistic Regression, Random Forest, and Gaussian Naive Bayes were selected to satisfy the requirement for the project"
   ]
  },
  {
   "cell_type": "code",
   "execution_count": 20,
   "id": "cb498307-e197-4361-9628-ff31bc011e42",
   "metadata": {},
   "outputs": [
    {
     "name": "stdout",
     "output_type": "stream",
     "text": [
      "\n",
      "**************************** PART ONE: Feature Generation ****************************\n",
      "\n",
      "Number of Valid Days in the Dataset: 2546\n",
      "Number of Successful Classifications: 1359\n",
      "\n",
      "**************************** PART TWO: Feature Reduction *****************************\n",
      "\n",
      "Warning: Maximum number of iterations has been exceeded.\n",
      "         Current function value: 0.652615\n",
      "         Iterations: 35\n"
     ]
    },
    {
     "name": "stderr",
     "output_type": "stream",
     "text": [
      "C:\\Users\\altho\\anaconda3\\lib\\site-packages\\statsmodels\\base\\model.py:566: ConvergenceWarning: Maximum Likelihood optimization failed to converge. Check mle_retvals\n",
      "  warnings.warn(\"Maximum Likelihood optimization failed to \"\n"
     ]
    },
    {
     "name": "stdout",
     "output_type": "stream",
     "text": [
      "\n",
      "Important Features: ['3MA', '15MA', '25MA', '40MA', '7MIN', '15MIN', '25MIN', '15MAX', '15Range', '25Range', '3EMA', '15EMA', '25EMA', '40-7EMA']\n",
      "\n",
      "**************************** PART THREE: Best Model Locator **************************\n",
      "\n"
     ]
    },
    {
     "name": "stderr",
     "output_type": "stream",
     "text": [
      "C:\\Users\\altho\\anaconda3\\lib\\site-packages\\sklearn\\svm\\_base.py:985: ConvergenceWarning: Liblinear failed to converge, increase the number of iterations.\n",
      "  warnings.warn(\"Liblinear failed to converge, increase \"\n"
     ]
    },
    {
     "name": "stdout",
     "output_type": "stream",
     "text": [
      "Model                                 Accuracy                 Precision\n",
      "Logistic Regression                   0.5824                   0.5782\n",
      "Random Forest                         0.9118                   0.9158\n",
      "Gaussian Naive Bayes                  0.5078                   0.5228\n",
      "\n",
      "Suggested Model: Random Forest\n",
      "\n",
      "**************************** PART FOUR: Best Cutoff ******************************\n",
      "\n",
      "Confusion Matrix for Minimum Precision of 0.9\n",
      "\n",
      "           Predict[0]  Predict[1]\n",
      "Actual[0]         216          22\n",
      "Actual[1]          22         250\n",
      "\n",
      "Precision Achieved: 0.9191\n",
      "Accuracy Achieved: 0.9137\n",
      "\n",
      "Confusion Matrix Descriptions for Test Data\n",
      "(True Positives)  Number of Successfully Classified Objectives: 250\n",
      "(False Positives) Number of Potential Losses: 22\n",
      "(False Negatives) Number of Investment Days Missed: 22\n",
      "(True Negatives)  Number of Correctly Labelled 'Don't Buy' Days: 216\n"
     ]
    }
   ],
   "source": [
    "print(\"\\n**************************** PART ONE: Feature Generation ****************************\\n\")\n",
    "df_average = feature_generation(df_average, n, p_inc)\n",
    "\n",
    "print(f\"Number of Valid Days in the Dataset: {len(df_average['Classification'])}\")\n",
    "print(f\"Number of Successful Classifications: {int(df_average['Classification'].sum())}\")\n",
    "\n",
    "print(\"\\n**************************** PART TWO: Feature Reduction *****************************\\n\")\n",
    "feature_list = feature_extraction(df_average)\n",
    "print(f\"\\nImportant Features: {feature_list}\")\n",
    "\n",
    "print(\"\\n**************************** PART THREE: Best Model Locator **************************\\n\")\n",
    "\n",
    "# Set y as target variables and X as the features\n",
    "y = df_average[\"Classification\"]\n",
    "y = y.to_numpy()\n",
    "X = df_average[feature_list]\n",
    "\n",
    "# Use train_test_split to split between training and testing\n",
    "X_train, X_test, y_train, y_test = train_test_split(X, y, test_size = .2, random_state = 21, stratify = y)\n",
    "\n",
    "# Get accuracy and precision for the Logistic Regression model\n",
    "logistic = LogisticRegression(solver = \"liblinear\", random_state=21, C = 100, penalty = 'l1')\n",
    "logistic.fit(X_train, y_train)\n",
    "y_pred = logistic.predict(X_test)\n",
    "\n",
    "log_accuracy = accuracy_score(y_test, y_pred)\n",
    "log_precision = precision_score(y_test, y_pred)\n",
    "\n",
    "# Get accuracy and precision for the Random Forest model\n",
    "forest = RandomForestClassifier(criterion='entropy', max_depth = 18, min_samples_leaf = 2, min_samples_split = 2, n_estimators = 500, random_state = 21)\n",
    "forest.fit(X_train, y_train)\n",
    "y_pred = forest.predict(X_test)\n",
    "\n",
    "random_accuracy = accuracy_score(y_test, y_pred)\n",
    "random_precision = precision_score(y_test, y_pred)\n",
    "\n",
    "# Get accuracy and precision for the Gaussian Naive Bayes model\n",
    "gaussian = GaussianNB(priors = [.7, .3])\n",
    "gaussian.fit(X_train, y_train)\n",
    "y_pred = gaussian.predict(X_test)\n",
    "\n",
    "gaussiannb_accuracy = accuracy_score(y_test, y_pred)\n",
    "gaussiannb_precision = precision_score(y_test, y_pred)\n",
    "\n",
    "# Print accuracy and precision for each model\n",
    "print(f\"Model                                 Accuracy                 Precision\")\n",
    "print(f\"Logistic Regression     {log_accuracy:>20.04f}     {log_precision:>20.04f}\")\n",
    "print(f\"Random Forest           {random_accuracy:>20.04f}     {random_precision:>20.04f}\")\n",
    "print(f\"Gaussian Naive Bayes    {gaussiannb_accuracy:>20.04f}     {gaussiannb_precision:>20.04f}\\n\")\n",
    "\n",
    "# Check which model yielded the best results and create predictions based on that model\n",
    "if max(log_precision, random_precision, gaussiannb_precision) == log_precision:\n",
    "    print(f\"Suggested Model: Logistic Regression\")\n",
    "    best_model = \"log\"\n",
    "    preds = logistic.predict_proba(X_test)\n",
    "\n",
    "elif max(log_precision, random_precision, gaussiannb_precision) == random_precision:\n",
    "    print(f\"Suggested Model: Random Forest\")\n",
    "    best_model = \"rf\"\n",
    "    preds = forest.predict_proba(X_test)\n",
    "\n",
    "else:\n",
    "    print(f\"Suggested Model: Gaussian Naive Bayes\")\n",
    "    best_model = \"gnb\"\n",
    "    preds = gaussian.predict_proba(X_test)\n",
    "\n",
    "# The roc_curve function will create three arrays that holds false and true positive\n",
    "# rates and their thresholds\n",
    "fpr, tpr, thresholds = roc_curve(y_test, preds[:, 1])\n",
    "\n",
    "accuracy_list = []\n",
    "precision_list = []\n",
    "\n",
    "# For every value in thresholds, change the probability of a prediction to 0 or 1 \n",
    "# depending if it is less than that threshold. Then, find the accuracy and precision\n",
    "# for each of those thresholds\n",
    "for thres in thresholds:\n",
    "    y_pred = np.where(preds[:,1] > thres, 1, 0)\n",
    "    # Apply desired utility function to y_preds, for example accuracy.\n",
    "    accuracy_list.append(accuracy_score(y_test, y_pred, normalize=True))\n",
    "    precision_list.append(precision_score(y_test, y_pred, zero_division = 0))\n",
    "\n",
    "# Default value for best accuracy\n",
    "best_acc = 0\n",
    "\n",
    "# Check every threshold again to find the best threshold that yields the best accuracy\n",
    "# given it has a precision greater than the inputted minimum precision\n",
    "for i in range(0, len(thresholds)):\n",
    "    if precision_list[i] >= precision_min and accuracy_list[i] > best_acc:\n",
    "        best_acc = accuracy_list[i]\n",
    "        best_thres = []\n",
    "        best_thres.append(thresholds[i])\n",
    "        best_thres.append(accuracy_list[i])\n",
    "        best_thres.append(precision_list[i])\n",
    "\n",
    "y_pred = np.where(preds[:,1] > best_thres[0], 1, 0)\n",
    "\n",
    "# Create a confusion matrix and print results of the predictions\n",
    "conf_mat = pd.DataFrame(confusion_matrix(y_test,y_pred),\n",
    "                    index = ['Actual[0]', 'Actual[1]'],\n",
    "                    columns = ['Predict[0]', 'Predict[1]'])\n",
    "\n",
    "print(\"\\n**************************** PART FOUR: Best Cutoff ******************************\\n\")\n",
    "\n",
    "print(f\"Confusion Matrix for Minimum Precision of {precision_min}\\n\")\n",
    "print(conf_mat)\n",
    "\n",
    "print(f\"\\nPrecision Achieved: {best_thres[2]:.04f}\")\n",
    "print(f\"Accuracy Achieved: {best_thres[1]:.04f}\\n\")\n",
    "\n",
    "print(\"Confusion Matrix Descriptions for Test Data\")\n",
    "print(f\"(True Positives)  Number of Successfully Classified Objectives: {conf_mat.iloc[1][1]}\")\n",
    "print(f\"(False Positives) Number of Potential Losses: {conf_mat.iloc[0][1]}\")\n",
    "print(f\"(False Negatives) Number of Investment Days Missed: {conf_mat.iloc[1][0]}\")\n",
    "print(f\"(True Negatives)  Number of Correctly Labelled 'Don't Buy' Days: {conf_mat.iloc[0][0]}\")"
   ]
  },
  {
   "cell_type": "markdown",
   "id": "7a0e05ee-5c73-43f5-ab5e-effaff077252",
   "metadata": {},
   "source": [
    "### 6. Predicting Values"
   ]
  },
  {
   "cell_type": "code",
   "execution_count": 21,
   "id": "9d597d73-fde3-47ac-93e5-f2c5f2924b3f",
   "metadata": {},
   "outputs": [],
   "source": [
    "test_file = \"TSLA Predict.csv\"\n",
    "\n",
    "df_predict = data_prep(test_file)\n",
    "\n",
    "df_predict_average = df_predict[[\"Day\", \"Average\"]]\n",
    "df_predict_average = df_predict_average.rename(columns={\"Average\": \"Price\"})\n",
    "df_predict_average = feature_generation(df_predict_average, 21, .1, prediction = True)\n",
    "df_predict_average = df_predict_average[feature_list]"
   ]
  },
  {
   "cell_type": "code",
   "execution_count": 22,
   "id": "bc9d7822-ac33-4580-883c-395bef777785",
   "metadata": {},
   "outputs": [
    {
     "name": "stdout",
     "output_type": "stream",
     "text": [
      "For a precision of 0.9191, buy on the days that are above a 0.5041 prediction threshold\n",
      "Date: 2021-08-23 | Prediction Percent: 0.9734 | Cutoff Prediction: Buy\n",
      "Date: 2021-08-24 | Prediction Percent: 0.7695 | Cutoff Prediction: Buy\n",
      "Date: 2021-08-25 | Prediction Percent: 0.7198 | Cutoff Prediction: Buy\n",
      "Date: 2021-08-26 | Prediction Percent: 0.5213 | Cutoff Prediction: Buy\n",
      "Date: 2021-08-27 | Prediction Percent: 0.6731 | Cutoff Prediction: Buy\n",
      "Date: 2021-08-30 | Prediction Percent: 0.6361 | Cutoff Prediction: Buy\n",
      "Date: 2021-08-31 | Prediction Percent: 0.5406 | Cutoff Prediction: Buy\n",
      "Date: 2021-09-01 | Prediction Percent: 0.3822 | Cutoff Prediction: Do not buy\n",
      "Date: 2021-09-02 | Prediction Percent: 0.3984 | Cutoff Prediction: Do not buy\n",
      "Date: 2021-09-03 | Prediction Percent: 0.3233 | Cutoff Prediction: Do not buy\n",
      "Date: 2021-09-07 | Prediction Percent: 0.4165 | Cutoff Prediction: Do not buy\n",
      "Date: 2021-09-08 | Prediction Percent: 0.3731 | Cutoff Prediction: Do not buy\n",
      "Date: 2021-09-09 | Prediction Percent: 0.3579 | Cutoff Prediction: Do not buy\n",
      "Date: 2021-09-10 | Prediction Percent: 0.3897 | Cutoff Prediction: Do not buy\n",
      "Date: 2021-09-13 | Prediction Percent: 0.2978 | Cutoff Prediction: Do not buy\n",
      "Date: 2021-09-14 | Prediction Percent: 0.2991 | Cutoff Prediction: Do not buy\n",
      "Date: 2021-09-15 | Prediction Percent: 0.3676 | Cutoff Prediction: Do not buy\n",
      "Date: 2021-09-16 | Prediction Percent: 0.3196 | Cutoff Prediction: Do not buy\n",
      "Date: 2021-09-17 | Prediction Percent: 0.2409 | Cutoff Prediction: Do not buy\n",
      "Date: 2021-09-20 | Prediction Percent: 0.4092 | Cutoff Prediction: Do not buy\n",
      "Date: 2021-09-21 | Prediction Percent: 0.4101 | Cutoff Prediction: Do not buy\n",
      "Date: 2021-09-22 | Prediction Percent: 0.4346 | Cutoff Prediction: Do not buy\n",
      "Date: 2021-09-23 | Prediction Percent: 0.3590 | Cutoff Prediction: Do not buy\n",
      "Date: 2021-09-24 | Prediction Percent: 0.3858 | Cutoff Prediction: Do not buy\n"
     ]
    }
   ],
   "source": [
    "prediction_percents = []\n",
    "\n",
    "print(f\"For a precision of {best_thres[2]:.04f}, buy on the days that are above a {best_thres[0]:.04f} prediction threshold\")\n",
    "\n",
    "for i in range(0, len(df_predict_average.index)):\n",
    "    input_pred = df_predict_average.iloc[i].to_numpy()\n",
    "    \n",
    "    if best_model == \"rf\":\n",
    "        pred_percent = forest.predict_proba(input_pred.reshape(1, -1))[0][1]\n",
    "    \n",
    "    elif best_model == \"gnb\":\n",
    "        pred_percent = gaussian.predict_proba(input_pred.reshape(1, -1))[0][1]\n",
    "\n",
    "    elif best_model == \"log\":\n",
    "        pred_percent = logistic.predict_proba(input_pred.reshape(1, -1))[0][1]\n",
    "    \n",
    "    prediction_percents.append(pred_percent)\n",
    "    print(f\"Date: {df_predict.Date[i]} | Prediction Percent: {pred_percent:.04f} | Cutoff Prediction: {'Buy' if pred_percent > best_thres[0] else 'Do not buy'}\")"
   ]
  },
  {
   "cell_type": "markdown",
   "id": "f083a28a-3312-46c7-8b67-374163fe0aaf",
   "metadata": {},
   "source": [
    "### 7. Additional Data Mining Information"
   ]
  },
  {
   "cell_type": "code",
   "execution_count": 28,
   "id": "f7f265d9-18ba-4da9-939f-91f4fea2a9eb",
   "metadata": {},
   "outputs": [
    {
     "data": {
      "image/png": "[encoded data removed]",
      "text/plain": [
       "<Figure size 432x288 with 1 Axes>"
      ]
     },
     "metadata": {
      "needs_background": "light"
     },
     "output_type": "display_data"
    }
   ],
   "source": [
    "skplt.metrics.plot_roc(y_test, forest.predict_proba(X_test), plot_micro = False)\n",
    "plt.show()"
   ]
  },
  {
   "cell_type": "code",
   "execution_count": 29,
   "id": "e33d49ba-516c-4816-aef0-b04f4747496a",
   "metadata": {},
   "outputs": [
    {
     "data": {
      "image/png": "[encoded data removed]",
      "text/plain": [
       "<Figure size 432x288 with 1 Axes>"
      ]
     },
     "metadata": {
      "needs_background": "light"
     },
     "output_type": "display_data"
    }
   ],
   "source": [
    "skplt.metrics.plot_cumulative_gain(y_test, forest.predict_proba(X_test))\n",
    "plt.show()"
   ]
  },
  {
   "cell_type": "code",
   "execution_count": 24,
   "id": "4f9a1d14-4e9f-4fc6-880b-5c80ff9e0114",
   "metadata": {},
   "outputs": [
    {
     "data": {
      "image/png": "[encoded data removed]",
      "text/plain": [
       "<Figure size 432x288 with 1 Axes>"
      ]
     },
     "metadata": {
      "needs_background": "light"
     },
     "output_type": "display_data"
    }
   ],
   "source": [
    "skplt.metrics.plot_lift_curve(y_test, forest.predict_proba(X_test))\n",
    "plt.show()"
   ]
  }
 ],
 "metadata": {
  "kernelspec": {
   "display_name": "Python 3 (ipykernel)",
   "language": "python",
   "name": "python3"
  },
  "language_info": {
   "codemirror_mode": {
    "name": "ipython",
    "version": 3
   },
   "file_extension": ".py",
   "mimetype": "text/x-python",
   "name": "python",
   "nbconvert_exporter": "python",
   "pygments_lexer": "ipython3",
   "version": "3.9.7"
  }
 },
 "nbformat": 4,
 "nbformat_minor": 5
}
